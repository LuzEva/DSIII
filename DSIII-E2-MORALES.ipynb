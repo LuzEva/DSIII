{
 "cells": [
  {
   "cell_type": "code",
   "execution_count": 2,
   "id": "bbffc069-ea2d-4ac7-9e94-caec9d4584fd",
   "metadata": {},
   "outputs": [],
   "source": [
    "import tensorflow as tf\n",
    "from tensorflow.keras.models import Sequential\n",
    "from tensorflow.keras.layers import Dense, Flatten, Dropout\n",
    "from tensorflow.keras.datasets import fashion_mnist\n",
    "import matplotlib.pyplot as plt"
   ]
  },
  {
   "cell_type": "code",
   "execution_count": 3,
   "id": "ff927c4e-edef-4b9d-8eab-7aac0f20b241",
   "metadata": {},
   "outputs": [
    {
     "data": {
      "image/png": "[encoded data removed]",
      "text/plain": [
       "<Figure size 1000x200 with 5 Axes>"
      ]
     },
     "metadata": {},
     "output_type": "display_data"
    }
   ],
   "source": [
    "# Cargar el dataset Fashion-MNIST\n",
    "(x_train, y_train), (x_test, y_test) = fashion_mnist.load_data()\n",
    "x_train, x_test = x_train / 255.0, x_test / 255.0  # Normalizar los datos\n",
    "\n",
    "# Mostrar algunas imágenes del dataset\n",
    "fig, axes = plt.subplots(1, 5, figsize=(10, 2))\n",
    "for i in range(5):\n",
    "    axes[i].imshow(x_train[i], cmap='gray')\n",
    "    axes[i].axis('off')\n",
    "plt.show()"
   ]
  },
  {
   "cell_type": "code",
   "execution_count": 8,
   "id": "419aa34b-24c1-4984-b578-8ebf9e8ca550",
   "metadata": {},
   "outputs": [
    {
     "name": "stdout",
     "output_type": "stream",
     "text": [
      "Epoch 1/5\n",
      "\u001b[1m1875/1875\u001b[0m \u001b[32m━━━━━━━━━━━━━━━━━━━━\u001b[0m\u001b[37m\u001b[0m \u001b[1m6s\u001b[0m 3ms/step - accuracy: 0.7525 - loss: 0.6762 - val_accuracy: 0.8399 - val_loss: 0.4389\n",
      "Epoch 2/5\n",
      "\u001b[1m1875/1875\u001b[0m \u001b[32m━━━━━━━━━━━━━━━━━━━━\u001b[0m\u001b[37m\u001b[0m \u001b[1m5s\u001b[0m 3ms/step - accuracy: 0.8498 - loss: 0.4125 - val_accuracy: 0.8564 - val_loss: 0.3899\n",
      "Epoch 3/5\n",
      "\u001b[1m1875/1875\u001b[0m \u001b[32m━━━━━━━━━━━━━━━━━━━━\u001b[0m\u001b[37m\u001b[0m \u001b[1m5s\u001b[0m 3ms/step - accuracy: 0.8628 - loss: 0.3728 - val_accuracy: 0.8537 - val_loss: 0.3929\n",
      "Epoch 4/5\n",
      "\u001b[1m1875/1875\u001b[0m \u001b[32m━━━━━━━━━━━━━━━━━━━━\u001b[0m\u001b[37m\u001b[0m \u001b[1m5s\u001b[0m 3ms/step - accuracy: 0.8726 - loss: 0.3479 - val_accuracy: 0.8656 - val_loss: 0.3688\n",
      "Epoch 5/5\n",
      "\u001b[1m1875/1875\u001b[0m \u001b[32m━━━━━━━━━━━━━━━━━━━━\u001b[0m\u001b[37m\u001b[0m \u001b[1m5s\u001b[0m 3ms/step - accuracy: 0.8777 - loss: 0.3367 - val_accuracy: 0.8701 - val_loss: 0.3615\n",
      "313/313 - 0s - 1ms/step - accuracy: 0.8701 - loss: 0.3615\n",
      "\n",
      "Accuracy del modelo : 0.8701\n"
     ]
    }
   ],
   "source": [
    "modelo= Sequential([\n",
    "    Flatten(input_shape=(28, 28)),  \n",
    "    Dense(512, activation='relu'),  \n",
    "    Dropout(0.2),  \n",
    "    Dense(256, activation='relu'),  \n",
    "    Dropout(0.2),  \n",
    "    Dense(128, activation='relu'),  \n",
    "    Dense(10, activation='softmax')  \n",
    "])\n",
    "\n",
    "modelo.compile(optimizer='adam',\n",
    "              loss='sparse_categorical_crossentropy',\n",
    "              metrics=['accuracy'])\n",
    "\n",
    "entrenado = modelo.fit(x_train, y_train, epochs=5, validation_data=(x_test, y_test))\n",
    "\n",
    "test_loss, test_acc = modelo.evaluate(x_test, y_test, verbose=2)\n",
    "print(f'\\nAccuracy del modelo : {test_acc:.4f}')"
   ]
  },
  {
   "cell_type": "code",
   "execution_count": 9,
   "id": "c7d394d0-c949-4255-95be-b7a2db9d6aa4",
   "metadata": {},
   "outputs": [],
   "source": [
    "#Podemos analizar que 5 epochs es suficiente ya que a de la 4 a la 5 la perdida no es significativ y el accuracy de 87% se establece a partir de la capa 4, por lo que las capas utilizadas nos dan un buen resultado cuando se entrena el modelo aunque podría ser mejorable.\n"
   ]
  },
  {
   "cell_type": "code",
   "execution_count": null,
   "id": "a58d2ba3-f31b-4a31-ba74-baecc2dcc764",
   "metadata": {},
   "outputs": [],
   "source": []
  },
  {
   "cell_type": "code",
   "execution_count": null,
   "id": "7fb66c8f-5c93-446a-b20d-729b1dcc6aa2",
   "metadata": {},
   "outputs": [],
   "source": []
  }
 ],
 "metadata": {
  "kernelspec": {
   "display_name": "Python 3 (ipykernel)",
   "language": "python",
   "name": "python3"
  },
  "language_info": {
   "codemirror_mode": {
    "name": "ipython",
    "version": 3
   },
   "file_extension": ".py",
   "mimetype": "text/x-python",
   "name": "python",
   "nbconvert_exporter": "python",
   "pygments_lexer": "ipython3",
   "version": "3.12.3"
  }
 },
 "nbformat": 4,
 "nbformat_minor": 5
}
